{
 "cells": [
  {
   "cell_type": "code",
   "execution_count": 1,
   "metadata": {},
   "outputs": [],
   "source": [
    "import scipy.stats as ss\n",
    "import numpy as np\n",
    "import pandas as pd\n",
    "import matplotlib.pyplot as plt"
   ]
  },
  {
   "cell_type": "code",
   "execution_count": 2,
   "metadata": {},
   "outputs": [
    {
     "name": "stdout",
     "output_type": "stream",
     "text": [
      "            Grades\n",
      "Student_Id        \n",
      "0             74.0\n",
      "1             85.0\n",
      "2             70.0\n",
      "3             81.0\n",
      "4             83.0\n"
     ]
    }
   ],
   "source": [
    "# The data contains the student id and grade. We set the column Student_Id as the index of the dataframe.\n",
    "df = pd.read_csv('class_data.csv')\n",
    "df = df.set_index('Student_Id')\n",
    "print(df.head())"
   ]
  },
  {
   "cell_type": "code",
   "execution_count": 3,
   "metadata": {},
   "outputs": [
    {
     "name": "stdout",
     "output_type": "stream",
     "text": [
      "Mean is:  79.617\n",
      "Std is:  12.252364320058044\n"
     ]
    }
   ],
   "source": [
    "#Computing the mean and standard deviation of the grades\n",
    "mean = df['Grades'].mean()\n",
    "std = df['Grades'].std()\n",
    "print(\"Mean is: \", mean)\n",
    "print(\"Std is: \", std)"
   ]
  },
  {
   "cell_type": "markdown",
   "metadata": {},
   "source": [
    "### \"Normal Test\" to check whether the data is normally distributed"
   ]
  },
  {
   "cell_type": "code",
   "execution_count": 4,
   "metadata": {},
   "outputs": [
    {
     "name": "stdout",
     "output_type": "stream",
     "text": [
      "Yes the data is normally distributed\n"
     ]
    }
   ],
   "source": [
    "k2, p = ss.normaltest(df)\n",
    "if p > 0.05:\n",
    "    print(\"Yes the data is normally distributed\")\n",
    "else:\n",
    "    print(\"No the data is not normally distributed\")"
   ]
  },
  {
   "cell_type": "code",
   "execution_count": 5,
   "metadata": {},
   "outputs": [
    {
     "data": {
      "image/png": "[encoded data removed]",
      "text/plain": [
       "<Figure size 432x288 with 1 Axes>"
      ]
     },
     "metadata": {
      "needs_background": "light"
     },
     "output_type": "display_data"
    }
   ],
   "source": [
    "# Plotting the histogram of grades containing 20 bins. \n",
    "count, bins, ignored = plt.hist(df['Grades'], bins = 20, color = 'r')\n",
    "plt.xlabel('Grades')\n",
    "plt.ylabel('Frequencies')\n",
    "plt.show()"
   ]
  },
  {
   "cell_type": "markdown",
   "metadata": {},
   "source": [
    "### Plotting the Probability Density Function as a curve over grades distribution"
   ]
  },
  {
   "cell_type": "code",
   "execution_count": 6,
   "metadata": {},
   "outputs": [
    {
     "data": {
      "image/png": "[encoded data removed]",
      "text/plain": [
       "<Figure size 432x288 with 1 Axes>"
      ]
     },
     "metadata": {
      "needs_background": "light"
     },
     "output_type": "display_data"
    }
   ],
   "source": [
    "count, bins, ignored = plt.hist(df['Grades'], bins = 20, density=True, stacked=True, color = 'b')\n",
    "plt.xlabel('Grades')\n",
    "plt.ylabel('Probability Density')\n",
    "mu = df['Grades'].mean()\n",
    "sigma = df['Grades'].std()\n",
    "plt.plot(bins, 1/(sigma * np.sqrt(2 * np.pi)) *\n",
    "    np.exp( - (bins - mu)**2 / (2 * sigma**2) ), linewidth=3, color='y')\n",
    "plt.show()"
   ]
  },
  {
   "cell_type": "markdown",
   "metadata": {},
   "source": [
    "### Creating a model using SciPy\n",
    "#### The model that would generate grades of students assuming they are normally distributed (based on the Normal Test)"
   ]
  },
  {
   "cell_type": "code",
   "execution_count": 7,
   "metadata": {},
   "outputs": [],
   "source": [
    "rv = ss.norm(mean, std)"
   ]
  },
  {
   "cell_type": "markdown",
   "metadata": {},
   "source": [
    "Let's say we want to find the probability that a randomly selected student from this class has a test score that is less than 92. For this we used the \"cdf\" function.\n",
    "#### CDF: Cumulative Distribution Function, returns the probability of a value less than or equal to a given outcome."
   ]
  },
  {
   "cell_type": "code",
   "execution_count": 8,
   "metadata": {},
   "outputs": [
    {
     "name": "stdout",
     "output_type": "stream",
     "text": [
      "Probability that a random student would take less than 92 is:  0.8439109037725568\n"
     ]
    }
   ],
   "source": [
    "prob = rv.cdf(92)\n",
    "print(\"Probability that a random student would take less than 92 is: \", prob)"
   ]
  },
  {
   "cell_type": "markdown",
   "metadata": {},
   "source": [
    "We can also utilize CDF to find the interval probability, say that of a randomly selected student from this class having a test score between 80 and 90 -"
   ]
  },
  {
   "cell_type": "code",
   "execution_count": 9,
   "metadata": {},
   "outputs": [
    {
     "name": "stdout",
     "output_type": "stream",
     "text": [
      "Probability that a random student would take a grade between 80 and 90 is:  0.28915316095987564\n"
     ]
    }
   ],
   "source": [
    "prob = rv.cdf(90) - rv.cdf(80)\n",
    "print(\"Probability that a random student would take a grade between 80 and 90 is: \", prob)"
   ]
  },
  {
   "cell_type": "markdown",
   "metadata": {},
   "source": [
    "Instead of 'less than', if we want to find the probability that a randomly selected student from this class has a test score greater than 70, we can simly substract 70's cdf from 1."
   ]
  },
  {
   "cell_type": "code",
   "execution_count": 10,
   "metadata": {},
   "outputs": [
    {
     "name": "stdout",
     "output_type": "stream",
     "text": [
      "Probability that a random student would take a grade greater than 70 is   0.783746752299991\n"
     ]
    }
   ],
   "source": [
    "prob = 1 - rv.cdf(70)\n",
    "print(\"Probability that a random student would take a grade greater than 70 is  \", prob)"
   ]
  },
  {
   "cell_type": "markdown",
   "metadata": {},
   "source": [
    "Instead of analyzing based on our target (Grades), we can also perform analysis to generate the target satisfying a specific condition. Say we want to find the test score that separates the bottom 30% from the top 70%.\n",
    "\n",
    "For such tasks we use PPF.\n",
    "\n",
    "### PPF: Percent-Point Function, returns a discrete value that is less than or equal to the given probability."
   ]
  },
  {
   "cell_type": "code",
   "execution_count": 11,
   "metadata": {},
   "outputs": [
    {
     "name": "stdout",
     "output_type": "stream",
     "text": [
      "The test scores that separetes the bottom 30% from the top 70% is  73.19185386867586\n"
     ]
    }
   ],
   "source": [
    "grade = rv.ppf(0.3)\n",
    "print(\"The test scores that separetes the bottom 30% from the top 70% is \", grade)"
   ]
  },
  {
   "cell_type": "markdown",
   "metadata": {},
   "source": [
    "If a student scores in the top 10% of all test scores, her test score is at least what?"
   ]
  },
  {
   "cell_type": "code",
   "execution_count": 12,
   "metadata": {},
   "outputs": [
    {
     "name": "stdout",
     "output_type": "stream",
     "text": [
      "If a student scores in the top 10% of all test scores, her test score is at least   95.31903667599319\n"
     ]
    }
   ],
   "source": [
    "grade = rv.ppf(0.9)\n",
    "print(\"If a student scores in the top 10% of all test scores, her test score is at least  \", grade)"
   ]
  },
  {
   "cell_type": "markdown",
   "metadata": {},
   "source": [
    "How about the range of test scores constituting the middle 50%?"
   ]
  },
  {
   "cell_type": "code",
   "execution_count": 13,
   "metadata": {},
   "outputs": [
    {
     "name": "stdout",
     "output_type": "stream",
     "text": [
      "(71.35290585045267, 87.88109414954734)  constitutes the middle 50% of the test scores\n"
     ]
    }
   ],
   "source": [
    "grade = rv.ppf(0.25), rv.ppf(0.75)\n",
    "print( grade, \" constitutes the middle 50% of the test scores\")"
   ]
  }
 ],
 "metadata": {
  "kernelspec": {
   "display_name": "Python 3",
   "language": "python",
   "name": "python3"
  },
  "language_info": {
   "codemirror_mode": {
    "name": "ipython",
    "version": 3
   },
   "file_extension": ".py",
   "mimetype": "text/x-python",
   "name": "python",
   "nbconvert_exporter": "python",
   "pygments_lexer": "ipython3",
   "version": "3.7.2"
  }
 },
 "nbformat": 4,
 "nbformat_minor": 4
}
